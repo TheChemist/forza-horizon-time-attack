{
 "cells": [
  {
   "cell_type": "code",
   "execution_count": null,
   "metadata": {},
   "outputs": [],
   "source": [
    "import pymongo\n",
    "import os\n",
    "from dotenv import load_dotenv\n",
    "import pandas as pd\n",
    "import requests\n",
    "from bs4 import BeautifulSoup\n",
    "import time\n",
    "import numpy as np\n",
    "\n",
    "\n",
    "load_dotenv()\n",
    "\n",
    "DATABASE_URL = os.getenv('DATABASE_URL')\n",
    "CAR_URL = \"https://www.kudosprime.com/fh5/car_sheet.php?id=\""
   ]
  },
  {
   "cell_type": "code",
   "execution_count": null,
   "metadata": {},
   "outputs": [],
   "source": [
    "db_client = pymongo.MongoClient(DATABASE_URL)\n",
    "db_col = db_client[\"fhta\"][\"Car\"]"
   ]
  },
  {
   "cell_type": "code",
   "execution_count": null,
   "metadata": {},
   "outputs": [],
   "source": [
    "cars = pd.read_excel(\"fh5_cars_kudosprime.xlsx\")\n",
    "cars.rename(columns={\n",
    "    \"K' iD\":\"kId\",\n",
    "    \"Group\":\"group\",\n",
    "    \"Maker\":\"make\",\n",
    "    \"Model\":\"model\"\n",
    "}, inplace=True)\n",
    "cars"
   ]
  },
  {
   "cell_type": "code",
   "execution_count": null,
   "metadata": {},
   "outputs": [],
   "source": [
    "cars.isna().sum()"
   ]
  },
  {
   "cell_type": "code",
   "execution_count": null,
   "metadata": {},
   "outputs": [],
   "source": [
    "cars.dropna(inplace=True)\n",
    "cars"
   ]
  },
  {
   "cell_type": "code",
   "execution_count": null,
   "metadata": {},
   "outputs": [],
   "source": [
    "def scrapeData(kId):\n",
    "    soup = BeautifulSoup(requests.get(CAR_URL+str(kId)).content, \"html.parser\")\n",
    "    # year                      Int?\n",
    "    desc = soup.find(\"meta\", attrs={'name':'description'})\n",
    "    desc = desc.attrs[\"content\"].split(\",\")\n",
    "    year = -1\n",
    "    for row in desc:\n",
    "        if \"Year\" in row:\n",
    "            year = int(row.split(\":\")[1].strip())\n",
    "\n",
    "    # imageLink                 String?\n",
    "    imageLink = \"https://www.kudosprime.com/fh5/images/cars/big/fh5_car_\"+  str(kId).zfill(3) + \".jpg?v=1\"\n",
    "\n",
    "    # stockPerformancePoints    Int?\n",
    "    stockPerformancePoints = int(soup.find(\"span\", class_=\"pimain\").contents[1].text)\n",
    "    try:\n",
    "        # maxPerformancePoints      Int?\n",
    "        maxPerformancePoints = int(soup.find(\"span\", class_=\"pimax\").contents[1].text)\n",
    "    except:\n",
    "        maxPerformancePoints = np.nan\n",
    "\n",
    "    # stockDrivetrain           String?\n",
    "    stockDrivetrain = soup.find(\"span\", class_=\"transmission\").text\n",
    "\n",
    "    # stockIngamePrice          Int?\n",
    "    stockIngamePrice = int(soup.find(\"div\", class_=\"price\").contents[0].text.replace(\",\", \"\"))\n",
    "\n",
    "    # carSource                 String?\n",
    "    carSource = soup.find(\"div\", class_=\"car_source\").contents[0].text\n",
    "\n",
    "    # stockSpeed                Float?\n",
    "    stockSpeed = float(soup.find(\"div\", class_=\"speed\").contents[0].text)\n",
    "\n",
    "    # stockHandling             Float?\n",
    "    stockHandling = float(soup.find(\"div\", class_=\"handling\").contents[0].text)\n",
    "\n",
    "    # stockAcceleration         Float?\n",
    "    stockAcceleration = float(soup.find(\"div\", class_=\"acceleration\").contents[0].text)\n",
    "\n",
    "    # stockLaunch               Float?\n",
    "    stockLaunch = float(soup.find(\"div\", class_=\"launch\").contents[0].text)\n",
    "\n",
    "    # stockBraking              Float?\n",
    "    stockBraking = float(soup.find(\"div\", class_=\"braking\").contents[0].text)\n",
    "\n",
    "    # stockOffroad              Float?\n",
    "    stockOffroad = float(soup.find(\"div\", class_=\"offroad\").contents[0].text)\n",
    "    try:\n",
    "        # stockTopSpeed             Float?\n",
    "        stockTopSpeedKmh = float(soup.find(\"div\", class_=\"car_perfs\").contents[1].text.split(\":\")[1].split(\" \")[0])\n",
    "    except:\n",
    "        stockTopSpeedKmh = np.nan\n",
    "        \n",
    "    try:\n",
    "        # stockLateralGs            Float?\n",
    "        stockLateralGs = float(soup.find(\"div\", class_=\"car_perfs\").contents[3].text.split(\":\")[1])\n",
    "    except:\n",
    "        stockLateralGs = np.nan\n",
    "    \n",
    "    try:\n",
    "    # stock0To97                Float?\n",
    "        stock0To97 = float(soup.find(\"div\", class_=\"car_perfs\").contents[5].text.split(\":\")[1].replace(\"s\", \"\"))\n",
    "    except:\n",
    "        stock0To97 = np.nan\n",
    "    \n",
    "    try:\n",
    "    # stock0To161               Float?\n",
    "        stock0To161 = float(soup.find(\"div\", class_=\"car_perfs\").contents[7].text.split(\":\")[1].replace(\"s\", \"\"))\n",
    "    except:\n",
    "        stock0To161 = np.nan\n",
    "\n",
    "    # stockHorsepower           Int?\n",
    "    stockHorsepower = int(soup.find(\"span\", class_=\"power\").contents[0].text)\n",
    "\n",
    "    # stockWeight               Int?\n",
    "    stockWeightLbs = int(soup.find(\"span\", class_=\"weight\").contents[0].text)\n",
    "\n",
    "    data = {\n",
    "        \"kId\": kId,\n",
    "        \"year\": year,\n",
    "        \"imageLink\": imageLink,\n",
    "        \"stockPerformancePoints\": stockPerformancePoints,\n",
    "        \"maxPerformancePoints\": maxPerformancePoints,\n",
    "        \"stockDrivetrain\": stockDrivetrain,\n",
    "        \"stockIngamePrice\": stockIngamePrice,\n",
    "        \"carSource\": carSource,\n",
    "        \"stockSpeed\": stockSpeed,\n",
    "        \"stockHandling\": stockHandling,\n",
    "        \"stockAcceleration\": stockAcceleration,\n",
    "        \"stockLaunch\": stockLaunch,\n",
    "        \"stockBraking\": stockBraking,\n",
    "        \"stockOffroad\": stockOffroad,\n",
    "        \"stockTopSpeedKmh\": stockTopSpeedKmh,\n",
    "        \"stockLateralGs\": stockLateralGs,\n",
    "        \"stock0To97\": stock0To97,\n",
    "        \"stock0To161\": stock0To161,\n",
    "        \"stockHorsepower\": stockHorsepower,\n",
    "        \"stockWeightLbs\": stockWeightLbs\n",
    "    }\n",
    "\n",
    "    return data"
   ]
  },
  {
   "cell_type": "code",
   "execution_count": null,
   "metadata": {},
   "outputs": [],
   "source": [
    "data_list = []\n",
    "\n",
    "for i in cars.kId:\n",
    "    data_list.append(scrapeData(i))\n",
    "    time.sleep(0.2)\n",
    "    print(\"Scraped data of {} cars\".format(i))"
   ]
  },
  {
   "cell_type": "code",
   "execution_count": null,
   "metadata": {},
   "outputs": [],
   "source": [
    "df_scraped = pd.DataFrame(data_list)\n",
    "df_scraped"
   ]
  },
  {
   "cell_type": "code",
   "execution_count": null,
   "metadata": {},
   "outputs": [],
   "source": [
    "cars_merged = cars.merge(right=df_scraped, on=\"kId\", how=\"left\")\n",
    "cars_merged"
   ]
  },
  {
   "cell_type": "code",
   "execution_count": null,
   "metadata": {},
   "outputs": [],
   "source": [
    "cars_merged.to_csv(\"cars.csv\")"
   ]
  },
  {
   "cell_type": "code",
   "execution_count": null,
   "metadata": {},
   "outputs": [],
   "source": [
    "cars_dict = cars_merged.to_dict(\"records\")\n",
    "cars_dict"
   ]
  },
  {
   "cell_type": "code",
   "execution_count": null,
   "metadata": {},
   "outputs": [],
   "source": [
    "db_col.insert_many(cars_dict)"
   ]
  }
 ],
 "metadata": {
  "kernelspec": {
   "display_name": "base",
   "language": "python",
   "name": "python3"
  },
  "language_info": {
   "codemirror_mode": {
    "name": "ipython",
    "version": 3
   },
   "file_extension": ".py",
   "mimetype": "text/x-python",
   "name": "python",
   "nbconvert_exporter": "python",
   "pygments_lexer": "ipython3",
   "version": "3.9.12"
  },
  "orig_nbformat": 4,
  "vscode": {
   "interpreter": {
    "hash": "c14210f855cac2e2a2d536b638983c6209b76c05cc6d2e9afee7edbecb07df0a"
   }
  }
 },
 "nbformat": 4,
 "nbformat_minor": 2
}
